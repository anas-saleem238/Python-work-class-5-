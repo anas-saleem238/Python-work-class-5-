{
 "cells": [
  {
   "cell_type": "code",
   "execution_count": 1,
   "id": "f372fb13-6926-4532-a49a-3226265fdd85",
   "metadata": {},
   "outputs": [
    {
     "name": "stdout",
     "output_type": "stream",
     "text": [
      "Hello World\n"
     ]
    }
   ],
   "source": [
    "print(\"Hello World\")"
   ]
  },
  {
   "cell_type": "code",
   "execution_count": 2,
   "id": "2866b9b2-c462-49d5-b153-fab75643b933",
   "metadata": {},
   "outputs": [
    {
     "data": {
      "text/plain": [
       "'Hello World'"
      ]
     },
     "execution_count": 2,
     "metadata": {},
     "output_type": "execute_result"
    }
   ],
   "source": [
    "\"Hello World\" "
   ]
  },
  {
   "cell_type": "code",
   "execution_count": 6,
   "id": "251971f9-0e17-4a64-b818-1e41453fd433",
   "metadata": {},
   "outputs": [
    {
     "data": {
      "text/plain": [
       "'My name is \\nanas'"
      ]
     },
     "execution_count": 6,
     "metadata": {},
     "output_type": "execute_result"
    }
   ],
   "source": [
    "(\"\"\"My name is \n",
    "anas\"\"\")"
   ]
  },
  {
   "cell_type": "code",
   "execution_count": 4,
   "id": "cc1d00f5-fa84-4122-8c32-0b79249a267f",
   "metadata": {},
   "outputs": [
    {
     "name": "stdout",
     "output_type": "stream",
     "text": [
      "my name is\n",
      "anas\n"
     ]
    }
   ],
   "source": [
    "print(\"\"\"my name is\n",
    "anas\"\"\")"
   ]
  },
  {
   "cell_type": "markdown",
   "id": "5f0c6e27-00c6-461f-998a-2ef4c8dfe0c7",
   "metadata": {},
   "source": [
    "# TYPE CASTING"
   ]
  },
  {
   "cell_type": "code",
   "execution_count": 7,
   "id": "69655d90-2c21-45fc-a715-ee4720b86d47",
   "metadata": {},
   "outputs": [
    {
     "data": {
      "text/plain": [
       "int"
      ]
     },
     "execution_count": 7,
     "metadata": {},
     "output_type": "execute_result"
    }
   ],
   "source": [
    "x = 123\n",
    "type(x)"
   ]
  },
  {
   "cell_type": "code",
   "execution_count": 8,
   "id": "09038859-5f0a-45de-88f1-c3ebe028d463",
   "metadata": {},
   "outputs": [
    {
     "data": {
      "text/plain": [
       "str"
      ]
     },
     "execution_count": 8,
     "metadata": {},
     "output_type": "execute_result"
    }
   ],
   "source": [
    "x = \"123\"\n",
    "type(x)"
   ]
  },
  {
   "cell_type": "code",
   "execution_count": 12,
   "id": "b587f580-67f1-4d55-8204-335dff7761df",
   "metadata": {},
   "outputs": [
    {
     "data": {
      "text/plain": [
       "float"
      ]
     },
     "execution_count": 12,
     "metadata": {},
     "output_type": "execute_result"
    }
   ],
   "source": [
    "x = 123.0\n",
    "type(x)"
   ]
  },
  {
   "cell_type": "code",
   "execution_count": 10,
   "id": "b4c6925e-25a4-42b3-a5a5-345305fcda3e",
   "metadata": {},
   "outputs": [
    {
     "data": {
      "text/plain": [
       "123"
      ]
     },
     "execution_count": 10,
     "metadata": {},
     "output_type": "execute_result"
    }
   ],
   "source": [
    "y = int(x)\n",
    "y"
   ]
  },
  {
   "cell_type": "code",
   "execution_count": null,
   "id": "eca3ed78-6d4e-4f86-a90e-a58899b44ed1",
   "metadata": {},
   "outputs": [],
   "source": [
    "# converting string integer below !"
   ]
  },
  {
   "cell_type": "code",
   "execution_count": 13,
   "id": "a4d6b638-2a72-4c9a-94eb-b87c91169243",
   "metadata": {},
   "outputs": [
    {
     "data": {
      "text/plain": [
       "123"
      ]
     },
     "execution_count": 13,
     "metadata": {},
     "output_type": "execute_result"
    }
   ],
   "source": [
    "int(\"123\")"
   ]
  },
  {
   "cell_type": "code",
   "execution_count": 14,
   "id": "ef5f336f-3318-4ede-975f-3457790211ff",
   "metadata": {},
   "outputs": [
    {
     "data": {
      "text/plain": [
       "int"
      ]
     },
     "execution_count": 14,
     "metadata": {},
     "output_type": "execute_result"
    }
   ],
   "source": [
    "type(int(\"123\"))"
   ]
  },
  {
   "cell_type": "code",
   "execution_count": 16,
   "id": "bfec1b15-803a-4a94-aaf3-7f68f5924e4e",
   "metadata": {},
   "outputs": [
    {
     "ename": "ValueError",
     "evalue": "invalid literal for int() with base 10: '123.0'",
     "output_type": "error",
     "traceback": [
      "\u001b[1;31m---------------------------------------------------------------------------\u001b[0m",
      "\u001b[1;31mValueError\u001b[0m                                Traceback (most recent call last)",
      "Cell \u001b[1;32mIn[16], line 1\u001b[0m\n\u001b[1;32m----> 1\u001b[0m \u001b[38;5;28mint\u001b[39m(\u001b[38;5;124m\"\u001b[39m\u001b[38;5;124m123.0\u001b[39m\u001b[38;5;124m\"\u001b[39m)\n",
      "\u001b[1;31mValueError\u001b[0m: invalid literal for int() with base 10: '123.0'"
     ]
    }
   ],
   "source": [
    "int(\"123.0\") #Error occured because the number is written in float "
   ]
  },
  {
   "cell_type": "code",
   "execution_count": 18,
   "id": "bd940d19-9ccd-4210-9319-b291e9b4df89",
   "metadata": {},
   "outputs": [
    {
     "data": {
      "text/plain": [
       "123.0"
      ]
     },
     "execution_count": 18,
     "metadata": {},
     "output_type": "execute_result"
    }
   ],
   "source": [
    "float(\"123.0\")"
   ]
  },
  {
   "cell_type": "code",
   "execution_count": 19,
   "id": "c279e2f4-ba78-45f1-bcde-91af55d2b881",
   "metadata": {},
   "outputs": [
    {
     "data": {
      "text/plain": [
       "123.0"
      ]
     },
     "execution_count": 19,
     "metadata": {},
     "output_type": "execute_result"
    }
   ],
   "source": [
    "float(123)"
   ]
  },
  {
   "cell_type": "code",
   "execution_count": 20,
   "id": "9fd4d5ac-28ec-4554-abd2-6624b71d7850",
   "metadata": {},
   "outputs": [],
   "source": [
    "# Both gives you same output "
   ]
  },
  {
   "cell_type": "code",
   "execution_count": 21,
   "id": "09c4f3c8-55bc-4aff-9305-82d5ebbd7f6b",
   "metadata": {},
   "outputs": [
    {
     "ename": "ValueError",
     "evalue": "invalid literal for int() with base 10: 'Hello world'",
     "output_type": "error",
     "traceback": [
      "\u001b[1;31m---------------------------------------------------------------------------\u001b[0m",
      "\u001b[1;31mValueError\u001b[0m                                Traceback (most recent call last)",
      "Cell \u001b[1;32mIn[21], line 1\u001b[0m\n\u001b[1;32m----> 1\u001b[0m \u001b[38;5;28mint\u001b[39m(\u001b[38;5;124m\"\u001b[39m\u001b[38;5;124mHello world\u001b[39m\u001b[38;5;124m\"\u001b[39m)\n",
      "\u001b[1;31mValueError\u001b[0m: invalid literal for int() with base 10: 'Hello world'"
     ]
    }
   ],
   "source": [
    "int(\"Hello world\") # Again invalid literal for int()  "
   ]
  },
  {
   "cell_type": "code",
   "execution_count": 22,
   "id": "dcce1c70-974e-4a06-af2f-b95c0cb3f0fa",
   "metadata": {},
   "outputs": [
    {
     "data": {
      "text/plain": [
       "int"
      ]
     },
     "execution_count": 22,
     "metadata": {},
     "output_type": "execute_result"
    }
   ],
   "source": [
    "x = 23\n",
    "type(x)"
   ]
  },
  {
   "cell_type": "code",
   "execution_count": 23,
   "id": "76cd7f26-132c-4f68-bfe2-cdd2257b9022",
   "metadata": {},
   "outputs": [
    {
     "data": {
      "text/plain": [
       "'23'"
      ]
     },
     "execution_count": 23,
     "metadata": {},
     "output_type": "execute_result"
    }
   ],
   "source": [
    "str(x)"
   ]
  },
  {
   "cell_type": "code",
   "execution_count": 24,
   "id": "259ef0db-71ce-4027-b99a-b7f5937fa72f",
   "metadata": {},
   "outputs": [
    {
     "data": {
      "text/plain": [
       "str"
      ]
     },
     "execution_count": 24,
     "metadata": {},
     "output_type": "execute_result"
    }
   ],
   "source": [
    "type(str(x))"
   ]
  },
  {
   "cell_type": "code",
   "execution_count": 25,
   "id": "3a483a30-128b-4466-a191-288fd80a18d4",
   "metadata": {},
   "outputs": [
    {
     "ename": "NameError",
     "evalue": "name 'xy' is not defined",
     "output_type": "error",
     "traceback": [
      "\u001b[1;31m---------------------------------------------------------------------------\u001b[0m",
      "\u001b[1;31mNameError\u001b[0m                                 Traceback (most recent call last)",
      "Cell \u001b[1;32mIn[25], line 3\u001b[0m\n\u001b[0;32m      1\u001b[0m x \u001b[38;5;241m=\u001b[39m \u001b[38;5;241m5\u001b[39m \n\u001b[0;32m      2\u001b[0m y \u001b[38;5;241m=\u001b[39m \u001b[38;5;241m7\u001b[39m \n\u001b[1;32m----> 3\u001b[0m \u001b[38;5;28mprint\u001b[39m(xy)\n",
      "\u001b[1;31mNameError\u001b[0m: name 'xy' is not defined"
     ]
    }
   ],
   "source": [
    "x = 5 \n",
    "y = 7 \n",
    "print(xy) #Error occured because there is no variable like xy if you want results than you have tou put , between them."
   ]
  },
  {
   "cell_type": "code",
   "execution_count": 26,
   "id": "5b9287ac-1c89-489c-8dd2-5721480b2f0e",
   "metadata": {},
   "outputs": [
    {
     "name": "stdout",
     "output_type": "stream",
     "text": [
      "5 7\n"
     ]
    }
   ],
   "source": [
    "x = 5 \n",
    "y = 7 \n",
    "print(x,y) # See result has come after putting , between them (,) is also for putting space between 2 words or integers"
   ]
  },
  {
   "cell_type": "markdown",
   "id": "059b9f1a-cb35-4429-bce2-af5bf744e1e7",
   "metadata": {},
   "source": [
    "# LIST"
   ]
  },
  {
   "cell_type": "code",
   "execution_count": 27,
   "id": "058f9730-ef54-4c44-b580-9acc65633990",
   "metadata": {},
   "outputs": [],
   "source": [
    "# [] list is always taken in box brackets ! "
   ]
  },
  {
   "cell_type": "code",
   "execution_count": 31,
   "id": "931277e9-6594-4972-bbcd-a319aa030bcf",
   "metadata": {},
   "outputs": [
    {
     "data": {
      "text/plain": [
       "['1', '3', '5', '7', '9']"
      ]
     },
     "execution_count": 31,
     "metadata": {},
     "output_type": "execute_result"
    }
   ],
   "source": [
    "odd_numbers = [ \"1\", \"3\", \"5\", \"7\", \"9\"]\n",
    "odd_numbers"
   ]
  },
  {
   "cell_type": "code",
   "execution_count": 32,
   "id": "223de24b-84e1-4cc3-81ed-f804860827d5",
   "metadata": {},
   "outputs": [
    {
     "data": {
      "text/plain": [
       "list"
      ]
     },
     "execution_count": 32,
     "metadata": {},
     "output_type": "execute_result"
    }
   ],
   "source": [
    "type(odd_numbers)"
   ]
  },
  {
   "cell_type": "code",
   "execution_count": 33,
   "id": "5abfe3a0-dce7-4090-a24f-1509d0c39ec3",
   "metadata": {},
   "outputs": [
    {
     "name": "stdout",
     "output_type": "stream",
     "text": [
      "['Anas', 123.0, 123, True, False, ['1', '3', '5', '7', '9']]\n"
     ]
    }
   ],
   "source": [
    "info = [\"Anas\", 123.0, 123, True, False, odd_numbers]\n",
    "print(info)"
   ]
  },
  {
   "cell_type": "code",
   "execution_count": 34,
   "id": "70fb3bbf-af0e-463c-a150-0e53e1106b3f",
   "metadata": {},
   "outputs": [
    {
     "data": {
      "text/plain": [
       "list"
      ]
     },
     "execution_count": 34,
     "metadata": {},
     "output_type": "execute_result"
    }
   ],
   "source": [
    "type(info)"
   ]
  },
  {
   "cell_type": "code",
   "execution_count": 35,
   "id": "a9b5f598-96ed-4300-a1f9-045aa2f2c94b",
   "metadata": {},
   "outputs": [
    {
     "ename": "TypeError",
     "evalue": "int() argument must be a string, a bytes-like object or a real number, not 'list'",
     "output_type": "error",
     "traceback": [
      "\u001b[1;31m---------------------------------------------------------------------------\u001b[0m",
      "\u001b[1;31mTypeError\u001b[0m                                 Traceback (most recent call last)",
      "Cell \u001b[1;32mIn[35], line 1\u001b[0m\n\u001b[1;32m----> 1\u001b[0m \u001b[38;5;28mtype\u001b[39m(\u001b[38;5;28mint\u001b[39m(info))\n",
      "\u001b[1;31mTypeError\u001b[0m: int() argument must be a string, a bytes-like object or a real number, not 'list'"
     ]
    }
   ],
   "source": [
    "type(int(info))"
   ]
  },
  {
   "cell_type": "markdown",
   "id": "2f617fda-eb1b-4e55-844d-2caed195d6d0",
   "metadata": {},
   "source": [
    "# INDEXING"
   ]
  },
  {
   "cell_type": "code",
   "execution_count": null,
   "id": "d1880f3e-84fa-4a6f-8728-222976a8eabb",
   "metadata": {},
   "outputs": [],
   "source": [
    "# Asc to Des starts from 0 and so on \n",
    "# Des to Asc starts from -1 and so on "
   ]
  },
  {
   "cell_type": "code",
   "execution_count": 36,
   "id": "207e19e7-c83a-4cea-9196-bd9e78ba7a40",
   "metadata": {},
   "outputs": [
    {
     "data": {
      "text/plain": [
       "['1', '3', '5', '7', '9']"
      ]
     },
     "execution_count": 36,
     "metadata": {},
     "output_type": "execute_result"
    }
   ],
   "source": [
    "odd_numbers "
   ]
  },
  {
   "cell_type": "code",
   "execution_count": 37,
   "id": "ca0ea4cc-c9a2-44fd-95ff-63249ccef1cc",
   "metadata": {},
   "outputs": [
    {
     "data": {
      "text/plain": [
       "'7'"
      ]
     },
     "execution_count": 37,
     "metadata": {},
     "output_type": "execute_result"
    }
   ],
   "source": [
    "odd_numbers[3]"
   ]
  },
  {
   "cell_type": "code",
   "execution_count": 38,
   "id": "5957e2db-cd41-4fe3-93af-f28a4994bca2",
   "metadata": {},
   "outputs": [
    {
     "data": {
      "text/plain": [
       "'9'"
      ]
     },
     "execution_count": 38,
     "metadata": {},
     "output_type": "execute_result"
    }
   ],
   "source": [
    "odd_numbers[-1]"
   ]
  },
  {
   "cell_type": "code",
   "execution_count": 39,
   "id": "91249a73-de4f-430f-8826-2c3254841f51",
   "metadata": {},
   "outputs": [
    {
     "data": {
      "text/plain": [
       "'1'"
      ]
     },
     "execution_count": 39,
     "metadata": {},
     "output_type": "execute_result"
    }
   ],
   "source": [
    "odd_numbers[0]"
   ]
  },
  {
   "cell_type": "code",
   "execution_count": 40,
   "id": "5830cda1-c2f7-4a69-821d-a165d5139fd8",
   "metadata": {},
   "outputs": [
    {
     "ename": "IndexError",
     "evalue": "list index out of range",
     "output_type": "error",
     "traceback": [
      "\u001b[1;31m---------------------------------------------------------------------------\u001b[0m",
      "\u001b[1;31mIndexError\u001b[0m                                Traceback (most recent call last)",
      "Cell \u001b[1;32mIn[40], line 1\u001b[0m\n\u001b[1;32m----> 1\u001b[0m odd_numbers[\u001b[38;5;241m5\u001b[39m]\n",
      "\u001b[1;31mIndexError\u001b[0m: list index out of range"
     ]
    }
   ],
   "source": [
    "odd_numbers[5] # Error occured because 5th number is not in list as per indeximg "
   ]
  },
  {
   "cell_type": "markdown",
   "id": "b35465c2-fd10-4f86-9962-67a4fe633da0",
   "metadata": {},
   "source": [
    "# SLICING"
   ]
  },
  {
   "cell_type": "code",
   "execution_count": 42,
   "id": "b8531b2b-7120-45e3-a768-ce7245b2308b",
   "metadata": {},
   "outputs": [],
   "source": [
    "# Slicing is to cut in fraction from anywhere "
   ]
  },
  {
   "cell_type": "code",
   "execution_count": 43,
   "id": "4252200d-bd62-4123-9341-ebd52e153234",
   "metadata": {},
   "outputs": [
    {
     "data": {
      "text/plain": [
       "['1', '3', '5', '7', '9']"
      ]
     },
     "execution_count": 43,
     "metadata": {},
     "output_type": "execute_result"
    }
   ],
   "source": [
    "odd_numbers"
   ]
  },
  {
   "cell_type": "code",
   "execution_count": 44,
   "id": "67b06b7e-a85c-49ba-b2de-0fea6c543e0f",
   "metadata": {},
   "outputs": [
    {
     "data": {
      "text/plain": [
       "['__add__',\n",
       " '__class__',\n",
       " '__class_getitem__',\n",
       " '__contains__',\n",
       " '__delattr__',\n",
       " '__delitem__',\n",
       " '__dir__',\n",
       " '__doc__',\n",
       " '__eq__',\n",
       " '__format__',\n",
       " '__ge__',\n",
       " '__getattribute__',\n",
       " '__getitem__',\n",
       " '__getstate__',\n",
       " '__gt__',\n",
       " '__hash__',\n",
       " '__iadd__',\n",
       " '__imul__',\n",
       " '__init__',\n",
       " '__init_subclass__',\n",
       " '__iter__',\n",
       " '__le__',\n",
       " '__len__',\n",
       " '__lt__',\n",
       " '__mul__',\n",
       " '__ne__',\n",
       " '__new__',\n",
       " '__reduce__',\n",
       " '__reduce_ex__',\n",
       " '__repr__',\n",
       " '__reversed__',\n",
       " '__rmul__',\n",
       " '__setattr__',\n",
       " '__setitem__',\n",
       " '__sizeof__',\n",
       " '__str__',\n",
       " '__subclasshook__',\n",
       " 'append',\n",
       " 'clear',\n",
       " 'copy',\n",
       " 'count',\n",
       " 'extend',\n",
       " 'index',\n",
       " 'insert',\n",
       " 'pop',\n",
       " 'remove',\n",
       " 'reverse',\n",
       " 'sort']"
      ]
     },
     "execution_count": 44,
     "metadata": {},
     "output_type": "execute_result"
    }
   ],
   "source": [
    "dir(list)"
   ]
  },
  {
   "cell_type": "code",
   "execution_count": 45,
   "id": "5a28620e-acc3-403d-a1a8-8e012d6ccbe5",
   "metadata": {},
   "outputs": [
    {
     "data": {
      "text/plain": [
       "['1', '3', '5', '7', '9']"
      ]
     },
     "execution_count": 45,
     "metadata": {},
     "output_type": "execute_result"
    }
   ],
   "source": [
    "odd_numbers"
   ]
  },
  {
   "cell_type": "code",
   "execution_count": 46,
   "id": "bb2934b1-8f14-4177-8cc3-beef97ce8dd9",
   "metadata": {},
   "outputs": [
    {
     "data": {
      "text/plain": [
       "['3', '5']"
      ]
     },
     "execution_count": 46,
     "metadata": {},
     "output_type": "execute_result"
    }
   ],
   "source": [
    "odd_numbers[1:3] # for slicing you've to put 1 number more coz it'll cut one from last "
   ]
  },
  {
   "cell_type": "code",
   "execution_count": 47,
   "id": "7af7164b-bc71-4ce4-a748-3f52f1cc811e",
   "metadata": {},
   "outputs": [
    {
     "data": {
      "text/plain": [
       "['1', '3', '5', '7', '9']"
      ]
     },
     "execution_count": 47,
     "metadata": {},
     "output_type": "execute_result"
    }
   ],
   "source": [
    "odd_numbers[0:5]"
   ]
  },
  {
   "cell_type": "code",
   "execution_count": 48,
   "id": "310ab5d7-adb0-4cd1-a32b-72cd25b7cc0b",
   "metadata": {},
   "outputs": [
    {
     "data": {
      "text/plain": [
       "['3', '5', '7', '9']"
      ]
     },
     "execution_count": 48,
     "metadata": {},
     "output_type": "execute_result"
    }
   ],
   "source": [
    "odd_numbers[1:]"
   ]
  },
  {
   "cell_type": "code",
   "execution_count": 49,
   "id": "058d6851-00c9-4b0a-98a4-52dcdff561cc",
   "metadata": {},
   "outputs": [
    {
     "data": {
      "text/plain": [
       "['1', '3', '5', '7', '9']"
      ]
     },
     "execution_count": 49,
     "metadata": {},
     "output_type": "execute_result"
    }
   ],
   "source": [
    "odd_numbers[:5]"
   ]
  },
  {
   "cell_type": "code",
   "execution_count": 50,
   "id": "f0989082-7223-4888-aa21-6a8f0c71fac9",
   "metadata": {},
   "outputs": [
    {
     "data": {
      "text/plain": [
       "5"
      ]
     },
     "execution_count": 50,
     "metadata": {},
     "output_type": "execute_result"
    }
   ],
   "source": [
    "len(odd_numbers)"
   ]
  },
  {
   "cell_type": "code",
   "execution_count": null,
   "id": "c0d0e6d7-d283-455f-a8d7-ae331aaec1ce",
   "metadata": {},
   "outputs": [],
   "source": []
  }
 ],
 "metadata": {
  "kernelspec": {
   "display_name": "Python 3 (ipykernel)",
   "language": "python",
   "name": "python3"
  },
  "language_info": {
   "codemirror_mode": {
    "name": "ipython",
    "version": 3
   },
   "file_extension": ".py",
   "mimetype": "text/x-python",
   "name": "python",
   "nbconvert_exporter": "python",
   "pygments_lexer": "ipython3",
   "version": "3.12.4"
  }
 },
 "nbformat": 4,
 "nbformat_minor": 5
}
